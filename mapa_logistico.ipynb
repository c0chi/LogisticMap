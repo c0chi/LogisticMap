{
  "cells": [
    {
      "cell_type": "markdown",
      "source": [
        "# Mapa logístico\n",
        "\n",
        "---\n",
        "\n"
      ],
      "metadata": {
        "id": "6XGOhZ5ZI43U",
        "colab_type": "text",
        "pycharm": {}
      }
    },
    {
      "cell_type": "markdown",
      "source": [
        "### Intro\n"
      ],
      "metadata": {
        "id": "0c_SiEaEBAna",
        "colab_type": "text",
        "pycharm": {}
      }
    },
    {
      "cell_type": "markdown",
      "source": "\n*x (t+1) \u003d R . x(t) . (1- x(t) )*\n\n\n",
      "metadata": {
        "id": "uyFIyIfeJF7V",
        "colab_type": "text",
        "pycharm": {}
      }
    },
    {
      "cell_type": "markdown",
      "source": [
        "\n",
        "Defino la funcion de arriba como *mapa(x0, R, n, plot )* donde\n",
        "\n",
        "*  x0:  representa las condiciones iniciales\n",
        "*  R : constante\n",
        "*  n : la cantidad de puntos a graficar\n",
        "*  plot: True/False para graficar o no el mapa creado\n",
        "\n\n(Nota: está pensado para valores iniciales de x entre 0 y 1)"
      ],
      "metadata": {
        "id": "fVO5pjTmJMjN",
        "colab_type": "text",
        "pycharm": {}
      }
    },
    {
      "cell_type": "code",
      "source": [
        "import matplotlib.pyplot as plt\n",
        "import numpy as np\n",
        "\n",
        "def mapa(x0, R, n\u003d20, plot \u003d True):\n",
        "\n",
        "    x \u003d np.zeros(100)\n",
        "    x[0] \u003d x0\n",
        "\n",
        "    for i in range(0, 100 - 1):\n",
        "        x[i + 1] \u003d R * x[i] * (1 - x[i])\n",
        "\n",
        "    if plot : miplot(x[0:(n+1)],R) # n\u003c\u003d100\n",
        "\n",
        "    return x\n",
        "  \n",
        "  \n",
        "def miplot(vec, R):\n",
        "    plt.plot(vec,\u0027o-\u0027, linewidth\u003d0.8, color\u003d\u0027#340B8C\u0027)\n",
        "    plt.ylim(0,1)\n",
        "    plt.xlim(0, vec.__len__()-1)\n",
        "    plt.ylabel(\u0027x(t)\u0027)\n",
        "    plt.xlabel(\u0027t\u0027)\n",
        "    # plt.grid(True)\n",
        "    # plt.title(tit)\n",
        "    plt.title(\u0027R \u003d %1.2f\u0027 %R)\n",
        "\n    plt.show()  "
      ],
      "outputs": [],
      "execution_count": 3,
      "metadata": {
        "id": "929LoavwJjX4",
        "colab_type": "code",
        "colab": {},
        "pycharm": {}
      }
    },
    {
      "cell_type": "markdown",
      "source": [
        "La función *mapa()* devuelve el vector x(t) generado para el valor de R y las condiciones especificas y además la grafica según *miplot()*\n"
      ],
      "metadata": {
        "id": "fBshat_kJ_4c",
        "colab_type": "text",
        "pycharm": {}
      }
    },
    {
      "cell_type": "code",
      "source": [
        "mapa(x0\u003d0.2 , R\u003d2, n\u003d10)\n"
      ],
      "outputs": [],
      "execution_count": 0,
      "metadata": {
        "id": "su7i7vO3j0gq",
        "colab_type": "code",
        "colab": {},
        "pycharm": {}
      }
    },
    {
      "cell_type": "markdown",
      "source": [
        "Se ve como los mapas\n",
        "\n",
        "```\n",
        "mapa(x0\u003d0.4 , R\u003d2, n\u003d10)\n",
        "mapa(x0\u003d0.2 , R\u003d2, n\u003d10)\n",
        "```\n",
        "\n",
        "convergen a *xt\u003d0.5* \n",
        "\n\n",
        "En el primer caso le lleva 5 iteraciones, en el segundo 7.\n"
      ],
      "metadata": {
        "id": "9OwlkYhKjuBu",
        "colab_type": "text",
        "pycharm": {}
      }
    },
    {
      "cell_type": "code",
      "source": [
        "mapa(x0\u003d0.4 , R\u003d2, n\u003d10)\n",
        "mapa(x0\u003d0.2 , R\u003d2, n\u003d10)\n"
      ],
      "outputs": [],
      "execution_count": 0,
      "metadata": {
        "id": "1NO9xygup6bp",
        "colab_type": "code",
        "colab": {},
        "pycharm": {}
      }
    },
    {
      "cell_type": "markdown",
      "source": [
        "Si las condiciones iniciales son más extremas.\n",
        "\n",
        "```\n",
        "mapa(x0\u003d0.99 , R\u003d2, n\u003d10)\n",
        "```\n",
        "\n",
        "El resultado es el mismo. Una vez que la serie alcanza el valor  0.5  no puede escapar.\n",
        "\n"
      ],
      "metadata": {
        "id": "TNQf4PC_rprJ",
        "colab_type": "text",
        "pycharm": {}
      }
    },
    {
      "cell_type": "code",
      "source": [
        "mapa(x0\u003d0.99 , R\u003d2, n\u003d20)"
      ],
      "outputs": [],
      "execution_count": 0,
      "metadata": {
        "id": "2V26GR8srzJk",
        "colab_type": "code",
        "colab": {},
        "pycharm": {}
      }
    },
    {
      "cell_type": "markdown",
      "source": [
        "Para otro valor de R, el punto de convergencia es distinto pero el flujo similar.\n",
        "\n",
        "```\n",
        "mapa(x0\u003d0.99 , R\u003d2.6, n\u003d10)\n",
        "```\n"
      ],
      "metadata": {
        "id": "dZcUsbb6t0YI",
        "colab_type": "text",
        "pycharm": {}
      }
    },
    {
      "cell_type": "code",
      "source": [
        "mapa(x0\u003d0.99 , R\u003d2.6)\n"
      ],
      "outputs": [],
      "execution_count": 0,
      "metadata": {
        "id": "P04D0ajmuBxf",
        "colab_type": "code",
        "colab": {},
        "pycharm": {}
      }
    },
    {
      "cell_type": "markdown",
      "source": [
        "Es interesante ver que pasa para otros valores de R.    \n",
        "\n\n",
        "Por ejemplo, para R\u003d3.1 la serie no converge a un valor sino que queda oscilando entre 2.\n",
        "\n",
        "```\n",
        "mapa(x0\u003d0.2,  R\u003d3.1)\n",
        "mapa(x0\u003d0.8,  R\u003d3.1)\n",
        "```\n",
        "\nSin importar las condiciones iniciales (x0), la serie queda para siempre entre : { 0.55801412,  0.76456652 }. Sus *puntos atrayentes*."
      ],
      "metadata": {
        "id": "Tkey2UtPuPC3",
        "colab_type": "text",
        "pycharm": {}
      }
    },
    {
      "cell_type": "code",
      "source": [
        "mapa(x0\u003d0.2,  R\u003d3.1)\n",
        "mapa(x0\u003d0.8,  R\u003d3.1)\n"
      ],
      "outputs": [],
      "execution_count": 0,
      "metadata": {
        "id": "9oa0HnRhuZs8",
        "colab_type": "code",
        "colab": {},
        "pycharm": {}
      }
    },
    {
      "cell_type": "markdown",
      "source": [
        "### Bifurcación\n",
        "\n\n",
        "Para valores de R entre 3.1 y 3.4, los puntos atrayentes cambian pero siguen siendo 2.\n",
        "\n",
        "Otros ejemplos:\n",
        "\n",
        "```\n",
        "mapa(x0\u003d0.2,  R\u003d3.1)  # {0.55801413, 0.76456652}\n",
        "mapa(x0\u003d0.5,  R\u003d3.25) # {0.49526517, 0.81242714}\n",
        "mapa(x0\u003d0.2,  R\u003d3.3)  # {0.47942702, 0.82360328}\n",
        "```"
      ],
      "metadata": {
        "id": "LTwXRtccqRLN",
        "colab_type": "text",
        "pycharm": {}
      }
    },
    {
      "cell_type": "code",
      "source": [
        "mapa(x0\u003d0.2,  R\u003d3.3)  # {0.47942702, 0.82360328}\n"
      ],
      "outputs": [],
      "execution_count": 0,
      "metadata": {
        "id": "xEwWiabjWvF4",
        "colab_type": "code",
        "colab": {},
        "pycharm": {}
      }
    },
    {
      "cell_type": "markdown",
      "source": [
        "Para valores de R entre 3.4 y 3.5, se da otra bifurcación. Los puntos atrayentes finales pasan a ser 4 !!   \n",
        "\n",
        "Pero, no obstante las condiciones iniciales, conocido el valor de R se puede saber donde terminará la serie.\n",
        "\n\n\n",
        "```\n",
        "mapa(R\u003d3.42, x0\u003d0.3, n\u003d50)  #{0.44697897, 0.84538559, 0.44702407, 0.84540194}\n",
        "mapa(R\u003d3.42, x0\u003d0.99, n\u003d50) #{0.44697897, 0.84538559, 0.44702407, 0.84540194}\n",
        "```\n",
        "\n\n\n"
      ],
      "metadata": {
        "id": "FST2SHJXxrw6",
        "colab_type": "text",
        "pycharm": {}
      }
    },
    {
      "cell_type": "code",
      "source": [
        "mapa(R\u003d3.42, x0\u003d0.3, n\u003d50) "
      ],
      "outputs": [],
      "execution_count": 0,
      "metadata": {
        "id": "eX6sE81rx-bP",
        "colab_type": "code",
        "colab": {},
        "pycharm": {}
      }
    },
    {
      "cell_type": "markdown",
      "source": [
        "El punto es que a medida que R crece, se vuelven a dar puntos de bifurcación y los puntos atrayentes pasan a ser {8,16, 32,...}.    \n",
        "Construimos una función simple y aproximada para obtener el valor final al que tiende la serie :\n",
        "\n\n\n"
      ],
      "metadata": {
        "id": "tf9XBIAU28as",
        "colab_type": "text",
        "pycharm": {}
      }
    },
    {
      "cell_type": "code",
      "source": [
        "def atractor(vec):\n",
        "    att \u003d set(vec[-1:-10:-1].round(4))\n",
        "    return att\n",
        "  \n",
        "  "
      ],
      "outputs": [],
      "execution_count": 0,
      "metadata": {
        "id": "6tRYtlwrTJ43",
        "colab_type": "code",
        "colab": {},
        "pycharm": {}
      }
    },
    {
      "cell_type": "markdown",
      "source": [
        "Ejemplos:\n",
        "\n\n",
        "```\n",
        "atractor(mapa(R\u003d3.1, x0\u003d0.2 , n\u003d100, plot\u003dFalse))\n",
        "atractor(mapa(R\u003d3.54, x0\u003d0.2 , n\u003d100, plot\u003dFalse))\n",
        "```\n",
        "\n"
      ],
      "metadata": {
        "id": "60gpBXSC3OUx",
        "colab_type": "text",
        "pycharm": {}
      }
    },
    {
      "cell_type": "code",
      "source": [
        "atractor(mapa(R\u003d3.54, x0\u003d0.9, plot\u003dFalse))"
      ],
      "outputs": [],
      "execution_count": 0,
      "metadata": {
        "id": "7rn_zB7_3N7-",
        "colab_type": "code",
        "colab": {},
        "pycharm": {}
      }
    },
    {
      "cell_type": "code",
      "source": [
        "# ver redondeo\n",
        "#for r in np.arange(2, 4, 0.1):\n",
        "#    a \u003d atractor(mapa(x0\u003d0.2 , R\u003dr, plot\u003dFalse))\n",
        "#    print( str(r) + \" : \" + str(a.__len__()) )\n",
        "#    print( str(a) )\n"
      ],
      "outputs": [],
      "execution_count": 0,
      "metadata": {
        "id": "pgimJloq-pOH",
        "colab_type": "code",
        "colab": {},
        "pycharm": {}
      }
    },
    {
      "cell_type": "markdown",
      "source": [
        "Hasta cierto valor de R, el sistema es predecible en tanto uno podría saber donde convergerá la serie independientemente de las condiciones de partida.\n",
        "\n\n\n",
        "```\n",
        "mapa(x0\u003d0.9,R\u003d3.54, n\u003d100)\n",
        "mapa(x0\u003d0.1,R\u003d3.54, n\u003d100)\n",
        "\n",
        "```\n",
        "\n"
      ],
      "metadata": {
        "id": "oxX2-wVuzp8F",
        "colab_type": "text",
        "pycharm": {}
      }
    },
    {
      "cell_type": "code",
      "source": [
        "mapa(x0\u003d0.9,R\u003d3.54, n\u003d100);print(atractor(mapa(x0\u003d0.9,R\u003d3.54, plot\u003dFalse)))\n",
        "mapa(x0\u003d0.1,R\u003d3.54, n\u003d100);print(atractor(mapa(x0\u003d0.1,R\u003d3.54, plot\u003dFalse)))"
      ],
      "outputs": [],
      "execution_count": 0,
      "metadata": {
        "id": "TsyfxBvt0bvm",
        "colab_type": "code",
        "colab": {},
        "pycharm": {}
      }
    },
    {
      "cell_type": "markdown",
      "source": [
        "### Sistema caótico\n",
        "\n",
        "Pasado un límite ( R ~ 3.57 ),  el período se vuelve infinito y el sistema se vuelve totalmente dependiente de las condiciones iniciales.\n"
      ],
      "metadata": {
        "id": "H5Zjm9vb80Pc",
        "colab_type": "text",
        "pycharm": {}
      }
    },
    {
      "cell_type": "code",
      "source": [
        "mapa(x0\u003d0.4999,R\u003d3.95, n\u003d100)\n",
        "mapa(x0\u003d0.5001,R\u003d3.95, n\u003d100)"
      ],
      "outputs": [],
      "execution_count": 0,
      "metadata": {
        "id": "GvrGgiTO9pNJ",
        "colab_type": "code",
        "colab": {},
        "pycharm": {}
      }
    },
    {
      "cell_type": "markdown",
      "source": [
        "Aca vemos como un pequeño cambio en las condiciones iniciales cambian completamente el mapa luego de un tiempo:\n"
      ],
      "metadata": {
        "id": "mI-ngE7dWvdE",
        "colab_type": "text",
        "pycharm": {}
      }
    },
    {
      "cell_type": "code",
      "source": [
        "x1 \u003d mapa(x0\u003d0.4999,R\u003d3.95, plot\u003dFalse)\n",
        "x2 \u003d mapa(x0\u003d0.5001,R\u003d3.95, plot\u003dFalse)\n",
        "\n",
        "plt.ylim(0, 1)\n",
        "plt.ylabel(\u0027x(t)\u0027)\n",
        "plt.xlabel(\u0027t\u0027)\n",
        "plt.title(\u0027R \u003d 4.00\u0027)\n",
        "plt.plot(x1, \u0027-\u0027, linewidth\u003d0.8, color\u003d\u0027red\u0027)\n",
        "plt.plot(x2, \u0027-\u0027, linewidth\u003d0.8, color\u003d\u0027blue\u0027)\n",
        "plt.show()"
      ],
      "outputs": [],
      "execution_count": 0,
      "metadata": {
        "id": "EuyQsVcFJzM6",
        "colab_type": "code",
        "colab": {},
        "pycharm": {}
      }
    }
  ],
  "metadata": {
    "colab": {
      "name": "mapa_logistico.ipynb",
      "version": "0.3.2",
      "provenance": [],
      "collapsed_sections": [
        "0c_SiEaEBAna",
        "LTwXRtccqRLN",
        "H5Zjm9vb80Pc"
      ]
    },
    "kernelspec": {
      "name": "python3",
      "language": "python",
      "display_name": "Python 3"
    },
    "kernel_info": {
      "name": "python3"
    },
    "language_info": {
      "name": "python",
      "version": "3.6.3",
      "mimetype": "text/x-python",
      "codemirror_mode": {
        "name": "ipython",
        "version": 3
      },
      "pygments_lexer": "ipython3",
      "nbconvert_exporter": "python",
      "file_extension": ".py"
    },
    "nteract": {
      "version": "0.12.3"
    }
  },
  "nbformat": 4,
  "nbformat_minor": 0
}