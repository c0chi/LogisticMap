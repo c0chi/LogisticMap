{
  "nbformat": 4,
  "nbformat_minor": 0,
  "metadata": {
    "colab": {
      "name": "mapa_logistico.ipynb",
      "version": "0.3.2",
      "provenance": [],
      "collapsed_sections": [
        "0c_SiEaEBAna",
        "LTwXRtccqRLN",
        "H5Zjm9vb80Pc"
      ]
    },
    "kernelspec": {
      "name": "python3",
      "display_name": "Python 3"
    }
  },
  "cells": [
    {
      "metadata": {
        "id": "6XGOhZ5ZI43U",
        "colab_type": "text"
      },
      "cell_type": "markdown",
      "source": [
        "# Mapa logístico\n",
        "\n",
        "---\n",
        "\n"
      ]
    },
    {
      "metadata": {
        "id": "0c_SiEaEBAna",
        "colab_type": "text"
      },
      "cell_type": "markdown",
      "source": [
        "### Intro\n"
      ]
    },
    {
      "metadata": {
        "id": "uyFIyIfeJF7V",
        "colab_type": "text"
      },
      "cell_type": "markdown",
      "source": [
        "\n",
        "*x (t+1) = R . x(t) . (1- x(t) )*\n",
        "\n",
        "\n"
      ]
    },
    {
      "metadata": {
        "id": "fVO5pjTmJMjN",
        "colab_type": "text"
      },
      "cell_type": "markdown",
      "source": [
        "\n",
        "Defino la funcion de arriba como *mapa(x0, R, n, plot )* donde\n",
        "\n",
        "*  x0:  representa las condiciones iniciales\n",
        "*  R : constante\n",
        "*  n : la cantidad de puntos a graficar\n",
        "*  plot: True/False para graficar o no el mapa creado\n",
        "\n",
        "\n",
        "(Nota: está pensado para valores iniciales de x entre 0 y 1)"
      ]
    },
    {
      "metadata": {
        "id": "929LoavwJjX4",
        "colab_type": "code",
        "colab": {}
      },
      "cell_type": "code",
      "source": [
        "import matplotlib.pyplot as plt\n",
        "import numpy as np\n",
        "\n",
        "def mapa(x0, R, n=20, plot = True):\n",
        "\n",
        "    x = np.zeros(100)\n",
        "    x[0] = x0\n",
        "\n",
        "    for i in range(0, 100 - 1):\n",
        "        x[i + 1] = R * x[i] * (1 - x[i])\n",
        "\n",
        "    if plot : miplot(x[0:(n+1)],R) # n<=100\n",
        "\n",
        "    return x\n",
        "  \n",
        "  \n",
        "def miplot(vec, R):\n",
        "    plt.plot(vec,'o-', linewidth=0.8, color='#340B8C')\n",
        "    plt.ylim(0,1)\n",
        "    plt.xlim(0, vec.__len__()-1)\n",
        "    plt.ylabel('x(t)')\n",
        "    plt.xlabel('t')\n",
        "    # plt.grid(True)\n",
        "    # plt.title(tit)\n",
        "    plt.title('R = %1.2f' %R)\n",
        "\n",
        "    plt.show()  "
      ],
      "execution_count": 0,
      "outputs": []
    },
    {
      "metadata": {
        "id": "fBshat_kJ_4c",
        "colab_type": "text"
      },
      "cell_type": "markdown",
      "source": [
        "La función *mapa()* devuelve el vector x(t) generado para el valor de R y las condiciones especificas y además la grafica según *miplot()*\n"
      ]
    },
    {
      "metadata": {
        "id": "su7i7vO3j0gq",
        "colab_type": "code",
        "colab": {}
      },
      "cell_type": "code",
      "source": [
        "mapa(x0=0.2 , R=2, n=10)\n"
      ],
      "execution_count": 0,
      "outputs": []
    },
    {
      "metadata": {
        "id": "9OwlkYhKjuBu",
        "colab_type": "text"
      },
      "cell_type": "markdown",
      "source": [
        "Se ve como los mapas\n",
        "\n",
        "```\n",
        "mapa(x0=0.4 , R=2, n=10)\n",
        "mapa(x0=0.2 , R=2, n=10)\n",
        "```\n",
        "\n",
        "convergen a *xt=0.5* \n",
        "\n",
        "\n",
        "En el primer caso le lleva 5 iteraciones, en el segundo 7.\n"
      ]
    },
    {
      "metadata": {
        "id": "1NO9xygup6bp",
        "colab_type": "code",
        "colab": {}
      },
      "cell_type": "code",
      "source": [
        "mapa(x0=0.4 , R=2, n=10)\n",
        "mapa(x0=0.2 , R=2, n=10)\n"
      ],
      "execution_count": 0,
      "outputs": []
    },
    {
      "metadata": {
        "id": "TNQf4PC_rprJ",
        "colab_type": "text"
      },
      "cell_type": "markdown",
      "source": [
        "Si las condiciones iniciales son más extremas.\n",
        "\n",
        "```\n",
        "mapa(x0=0.99 , R=2, n=10)\n",
        "```\n",
        "\n",
        "El resultado es el mismo. Una vez que la serie alcanza el valor  0.5  no puede escapar.\n",
        "\n"
      ]
    },
    {
      "metadata": {
        "id": "2V26GR8srzJk",
        "colab_type": "code",
        "colab": {}
      },
      "cell_type": "code",
      "source": [
        "mapa(x0=0.99 , R=2, n=20)"
      ],
      "execution_count": 0,
      "outputs": []
    },
    {
      "metadata": {
        "id": "dZcUsbb6t0YI",
        "colab_type": "text"
      },
      "cell_type": "markdown",
      "source": [
        "Para otro valor de R, el punto de convergencia es distinto pero el flujo similar.\n",
        "\n",
        "```\n",
        "mapa(x0=0.99 , R=2.6, n=10)\n",
        "```\n"
      ]
    },
    {
      "metadata": {
        "id": "P04D0ajmuBxf",
        "colab_type": "code",
        "colab": {}
      },
      "cell_type": "code",
      "source": [
        "mapa(x0=0.99 , R=2.6)\n"
      ],
      "execution_count": 0,
      "outputs": []
    },
    {
      "metadata": {
        "id": "Tkey2UtPuPC3",
        "colab_type": "text"
      },
      "cell_type": "markdown",
      "source": [
        "Es interesante ver que pasa para otros valores de R.    \n",
        "\n",
        "\n",
        "Por ejemplo, para R=3.1 la serie no converge a un valor sino que queda oscilando entre 2.\n",
        "\n",
        "```\n",
        "mapa(x0=0.2,  R=3.1)\n",
        "mapa(x0=0.8,  R=3.1)\n",
        "```\n",
        "\n",
        "Sin importar las condiciones iniciales (x0), la serie queda para siempre entre : { 0.55801412,  0.76456652 }. Sus *puntos atrayentes*."
      ]
    },
    {
      "metadata": {
        "id": "9oa0HnRhuZs8",
        "colab_type": "code",
        "colab": {}
      },
      "cell_type": "code",
      "source": [
        "mapa(x0=0.2,  R=3.1)\n",
        "mapa(x0=0.8,  R=3.1)\n"
      ],
      "execution_count": 0,
      "outputs": []
    },
    {
      "metadata": {
        "id": "LTwXRtccqRLN",
        "colab_type": "text"
      },
      "cell_type": "markdown",
      "source": [
        "### Bifurcación\n",
        "\n",
        "\n",
        "Para valores de R entre 3.1 y 3.4, los puntos atrayentes cambian pero siguen siendo 2.\n",
        "\n",
        "Otros ejemplos:\n",
        "\n",
        "```\n",
        "mapa(x0=0.2,  R=3.1)  # {0.55801413, 0.76456652}\n",
        "mapa(x0=0.5,  R=3.25) # {0.49526517, 0.81242714}\n",
        "mapa(x0=0.2,  R=3.3)  # {0.47942702, 0.82360328}\n",
        "*texto en cursiva*```"
      ]
    },
    {
      "metadata": {
        "id": "xEwWiabjWvF4",
        "colab_type": "code",
        "colab": {}
      },
      "cell_type": "code",
      "source": [
        "mapa(x0=0.2,  R=3.3)  # {0.47942702, 0.82360328}\n"
      ],
      "execution_count": 0,
      "outputs": []
    },
    {
      "metadata": {
        "id": "FST2SHJXxrw6",
        "colab_type": "text"
      },
      "cell_type": "markdown",
      "source": [
        "Para valores de R entre 3.4 y 3.5, se da otra bifurcación. Los puntos atrayentes finales pasan a ser 4 !!   \n",
        "\n",
        "Pero, no obstante las condiciones iniciales, conocido el valor de R se puede saber donde terminará la serie.\n",
        "\n",
        "\n",
        "\n",
        "```\n",
        "mapa(R=3.42, x0=0.3, n=50)  #{0.44697897, 0.84538559, 0.44702407, 0.84540194}\n",
        "mapa(R=3.42, x0=0.99, n=50) #{0.44697897, 0.84538559, 0.44702407, 0.84540194}\n",
        "```\n",
        "\n",
        "\n",
        "\n"
      ]
    },
    {
      "metadata": {
        "id": "eX6sE81rx-bP",
        "colab_type": "code",
        "colab": {}
      },
      "cell_type": "code",
      "source": [
        "mapa(R=3.42, x0=0.3, n=50) "
      ],
      "execution_count": 0,
      "outputs": []
    },
    {
      "metadata": {
        "id": "tf9XBIAU28as",
        "colab_type": "text"
      },
      "cell_type": "markdown",
      "source": [
        "El punto es que a medida que R crece, se vuelven a dar puntos de bifurcación y los puntos atrayentes pasan a ser {8,16, 32,...}.    \n",
        "Construimos una función simple y aproximada para obtener el valor final al que tiende la serie :\n",
        "\n",
        "\n",
        "\n"
      ]
    },
    {
      "metadata": {
        "id": "6tRYtlwrTJ43",
        "colab_type": "code",
        "colab": {}
      },
      "cell_type": "code",
      "source": [
        "def atractor(vec):\n",
        "    att = set(vec[-1:-10:-1].round(4))\n",
        "    return att\n",
        "  \n",
        "  "
      ],
      "execution_count": 0,
      "outputs": []
    },
    {
      "metadata": {
        "id": "60gpBXSC3OUx",
        "colab_type": "text"
      },
      "cell_type": "markdown",
      "source": [
        "Ejemplos:\n",
        "\n",
        "\n",
        "```\n",
        "atractor(mapa(R=3.1, x0=0.2 , n=100, plot=False))\n",
        "atractor(mapa(R=3.54, x0=0.2 , n=100, plot=False))\n",
        "```\n",
        "\n"
      ]
    },
    {
      "metadata": {
        "id": "7rn_zB7_3N7-",
        "colab_type": "code",
        "colab": {}
      },
      "cell_type": "code",
      "source": [
        "atractor(mapa(R=3.54, x0=0.9, plot=False))"
      ],
      "execution_count": 0,
      "outputs": []
    },
    {
      "metadata": {
        "id": "pgimJloq-pOH",
        "colab_type": "code",
        "colab": {}
      },
      "cell_type": "code",
      "source": [
        "# ver redondeo\n",
        "#for r in np.arange(2, 4, 0.1):\n",
        "#    a = atractor(mapa(x0=0.2 , R=r, plot=False))\n",
        "#    print( str(r) + \" : \" + str(a.__len__()) )\n",
        "#    print( str(a) )\n"
      ],
      "execution_count": 0,
      "outputs": []
    },
    {
      "metadata": {
        "id": "oxX2-wVuzp8F",
        "colab_type": "text"
      },
      "cell_type": "markdown",
      "source": [
        "Hasta cierto valor de R, el sistema es predecible en tanto uno podría saber donde convergerá la serie independientemente de las condiciones de partida.\n",
        "\n",
        "\n",
        "\n",
        "```\n",
        "mapa(x0=0.9,R=3.54, n=100)\n",
        "mapa(x0=0.1,R=3.54, n=100)\n",
        "\n",
        "```\n",
        "\n"
      ]
    },
    {
      "metadata": {
        "id": "TsyfxBvt0bvm",
        "colab_type": "code",
        "colab": {}
      },
      "cell_type": "code",
      "source": [
        "mapa(x0=0.9,R=3.54, n=100);print(atractor(mapa(x0=0.9,R=3.54, plot=False)))\n",
        "mapa(x0=0.1,R=3.54, n=100);print(atractor(mapa(x0=0.1,R=3.54, plot=False)))"
      ],
      "execution_count": 0,
      "outputs": []
    },
    {
      "metadata": {
        "id": "H5Zjm9vb80Pc",
        "colab_type": "text"
      },
      "cell_type": "markdown",
      "source": [
        "### Sistema caótico\n",
        "\n",
        "Pasado un límite ( R ~ 3.57 ),  el período se vuelve infinito y el sistema se vuelve totalmente dependiente de las condiciones iniciales.\n"
      ]
    },
    {
      "metadata": {
        "id": "GvrGgiTO9pNJ",
        "colab_type": "code",
        "colab": {}
      },
      "cell_type": "code",
      "source": [
        "mapa(x0=0.4999,R=3.95, n=100)\n",
        "mapa(x0=0.5001,R=3.95, n=100)"
      ],
      "execution_count": 0,
      "outputs": []
    },
    {
      "metadata": {
        "id": "mI-ngE7dWvdE",
        "colab_type": "text"
      },
      "cell_type": "markdown",
      "source": [
        "Aca vemos como un pequeño cambio en las condiciones iniciales cambian completamente el mapa:\n",
        "\n",
        "```\n",
        "mapa(R=4   , x0=0.2, n=50)\n",
        "mapa(R=4   , x0=0.20000001, n=50)\n",
        "```\n",
        "\n"
      ]
    },
    {
      "metadata": {
        "id": "EuyQsVcFJzM6",
        "colab_type": "code",
        "colab": {}
      },
      "cell_type": "code",
      "source": [
        "mapa(R=4   , x0=0.2, n=50)\n",
        "mapa(R=4   , x0=0.20001, n=50)"
      ],
      "execution_count": 0,
      "outputs": []
    }
  ]
}